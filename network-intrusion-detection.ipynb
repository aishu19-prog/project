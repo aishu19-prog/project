{
 "cells": [
  {
   "cell_type": "code",
   "execution_count": 1,
   "id": "97e87648",
   "metadata": {
    "execution": {
     "iopub.execute_input": "2024-01-14T17:59:30.142920Z",
     "iopub.status.busy": "2024-01-14T17:59:30.142287Z",
     "iopub.status.idle": "2024-01-14T17:59:32.673296Z",
     "shell.execute_reply": "2024-01-14T17:59:32.671885Z"
    },
    "papermill": {
     "duration": 2.563329,
     "end_time": "2024-01-14T17:59:32.676637",
     "exception": false,
     "start_time": "2024-01-14T17:59:30.113308",
     "status": "completed"
    },
    "tags": []
   },
   "outputs": [
    {
     "name": "stderr",
     "output_type": "stream",
     "text": [
      "C:\\Users\\siyar\\AppData\\Local\\Temp\\ipykernel_8696\\608375250.py:2: DeprecationWarning: \n",
      "Pyarrow will become a required dependency of pandas in the next major release of pandas (pandas 3.0),\n",
      "(to allow more performant data types, such as the Arrow string type, and better interoperability with other libraries)\n",
      "but was not found to be installed on your system.\n",
      "If this would cause problems for you,\n",
      "please provide us feedback at https://github.com/pandas-dev/pandas/issues/54466\n",
      "        \n",
      "  import pandas as pd\n"
     ]
    },
    {
     "ename": "ModuleNotFoundError",
     "evalue": "No module named 'sklearn'",
     "output_type": "error",
     "traceback": [
      "\u001b[1;31m---------------------------------------------------------------------------\u001b[0m",
      "\u001b[1;31mModuleNotFoundError\u001b[0m                       Traceback (most recent call last)",
      "Cell \u001b[1;32mIn[1], line 6\u001b[0m\n\u001b[0;32m      4\u001b[0m \u001b[38;5;28;01mimport\u001b[39;00m \u001b[38;5;21;01mmatplotlib\u001b[39;00m\u001b[38;5;21;01m.\u001b[39;00m\u001b[38;5;21;01mpyplot\u001b[39;00m \u001b[38;5;28;01mas\u001b[39;00m \u001b[38;5;21;01mplt\u001b[39;00m\n\u001b[0;32m      5\u001b[0m \u001b[38;5;28;01mfrom\u001b[39;00m \u001b[38;5;21;01mpandas\u001b[39;00m\u001b[38;5;21;01m.\u001b[39;00m\u001b[38;5;21;01mapi\u001b[39;00m\u001b[38;5;21;01m.\u001b[39;00m\u001b[38;5;21;01mtypes\u001b[39;00m \u001b[38;5;28;01mimport\u001b[39;00m is_numeric_dtype\n\u001b[1;32m----> 6\u001b[0m \u001b[38;5;28;01mfrom\u001b[39;00m \u001b[38;5;21;01msklearn\u001b[39;00m \u001b[38;5;28;01mimport\u001b[39;00m tree\n\u001b[0;32m      7\u001b[0m \u001b[38;5;28;01mfrom\u001b[39;00m \u001b[38;5;21;01msklearn\u001b[39;00m\u001b[38;5;21;01m.\u001b[39;00m\u001b[38;5;21;01mmodel_selection\u001b[39;00m \u001b[38;5;28;01mimport\u001b[39;00m train_test_split\n\u001b[0;32m      8\u001b[0m \u001b[38;5;28;01mfrom\u001b[39;00m \u001b[38;5;21;01msklearn\u001b[39;00m\u001b[38;5;21;01m.\u001b[39;00m\u001b[38;5;21;01mlinear_model\u001b[39;00m \u001b[38;5;28;01mimport\u001b[39;00m LogisticRegression\n",
      "\u001b[1;31mModuleNotFoundError\u001b[0m: No module named 'sklearn'"
     ]
    }
   ],
   "source": [
    "import numpy as np\n",
    "import pandas as pd\n",
    "import seaborn as sns\n",
    "import matplotlib.pyplot as plt\n",
    "from pandas.api.types import is_numeric_dtype\n",
    "from sklearn import tree\n",
    "from sklearn.model_selection import train_test_split\n",
    "from sklearn.linear_model import LogisticRegression\n",
    "from sklearn.preprocessing import StandardScaler, LabelEncode\n",
    "from sklearn.tree  import DecisionTreeClassifi\n",
    "from sklearn.metrics import accuracy_score,confusion_matrix,precision_score\n",
    "from sklearn.ensemble import RandomForestClassifier, AdaBoostClassifier, VotingClassifier\n",
    "from sklearn.metrics import classification_report"
   ]
  },
  {
   "cell_type": "markdown",
   "id": "45c5a55c",
   "metadata": {
    "papermill": {
     "duration": 0.026483,
     "end_time": "2024-01-14T17:59:32.729701",
     "exception": false,
     "start_time": "2024-01-14T17:59:32.703218",
     "status": "completed"
    },
    "tags": []
   },
   "source": [
    "# Reading the Training Dataset"
   ]
  },
  {
   "cell_type": "code",
   "execution_count": null,
   "id": "d543e05d",
   "metadata": {
    "execution": {
     "iopub.execute_input": "2024-01-14T17:59:32.783612Z",
     "iopub.status.busy": "2024-01-14T17:59:32.783127Z",
     "iopub.status.idle": "2024-01-14T17:59:32.996186Z",
     "shell.execute_reply": "2024-01-14T17:59:32.994577Z"
    },
    "papermill": {
     "duration": 0.244025,
     "end_time": "2024-01-14T17:59:32.999534",
     "exception": false,
     "start_time": "2024-01-14T17:59:32.755509",
     "status": "completed"
    },
    "tags": []
   },
   "outputs": [],
   "source": [
    "train = pd.read_csv(\"Train_data.csv\")"
   ]
  },
  {
   "cell_type": "code",
   "execution_count": null,
   "id": "ddfcb142",
   "metadata": {
    "execution": {
     "iopub.execute_input": "2024-01-14T17:59:33.055396Z",
     "iopub.status.busy": "2024-01-14T17:59:33.054963Z",
     "iopub.status.idle": "2024-01-14T17:59:33.111395Z",
     "shell.execute_reply": "2024-01-14T17:59:33.109597Z"
    },
    "papermill": {
     "duration": 0.087339,
     "end_time": "2024-01-14T17:59:33.114811",
     "exception": false,
     "start_time": "2024-01-14T17:59:33.027472",
     "status": "completed"
    },
    "tags": []
   },
   "outputs": [],
   "source": [
    "train.info()"
   ]
  },
  {
   "cell_type": "code",
   "execution_count": null,
   "id": "535c8ac0",
   "metadata": {
    "execution": {
     "iopub.execute_input": "2024-01-14T17:59:33.269522Z",
     "iopub.status.busy": "2024-01-14T17:59:33.269078Z",
     "iopub.status.idle": "2024-01-14T17:59:33.278208Z",
     "shell.execute_reply": "2024-01-14T17:59:33.276827Z"
    },
    "papermill": {
     "duration": 0.040064,
     "end_time": "2024-01-14T17:59:33.280978",
     "exception": false,
     "start_time": "2024-01-14T17:59:33.240914",
     "status": "completed"
    },
    "tags": []
   },
   "outputs": [],
   "source": [
    "train.shape"
   ]
  },
  {
   "cell_type": "code",
   "execution_count": null,
   "id": "ffcd5957",
   "metadata": {
    "execution": {
     "iopub.execute_input": "2024-01-14T17:59:33.339769Z",
     "iopub.status.busy": "2024-01-14T17:59:33.338595Z",
     "iopub.status.idle": "2024-01-14T17:59:33.374844Z",
     "shell.execute_reply": "2024-01-14T17:59:33.373546Z"
    },
    "papermill": {
     "duration": 0.068247,
     "end_time": "2024-01-14T17:59:33.377715",
     "exception": false,
     "start_time": "2024-01-14T17:59:33.309468",
     "status": "completed"
    },
    "tags": []
   },
   "outputs": [],
   "source": [
    "train.head()"
   ]
  },
  {
   "cell_type": "code",
   "execution_count": null,
   "id": "0d5a0e81",
   "metadata": {
    "execution": {
     "iopub.execute_input": "2024-01-14T17:59:33.434587Z",
     "iopub.status.busy": "2024-01-14T17:59:33.434195Z",
     "iopub.status.idle": "2024-01-14T17:59:33.584714Z",
     "shell.execute_reply": "2024-01-14T17:59:33.583159Z"
    },
    "papermill": {
     "duration": 0.18226,
     "end_time": "2024-01-14T17:59:33.587577",
     "exception": false,
     "start_time": "2024-01-14T17:59:33.405317",
     "status": "completed"
    },
    "tags": []
   },
   "outputs": [],
   "source": [
    "train.describe()"
   ]
  },
  {
   "cell_type": "code",
   "execution_count": null,
   "id": "ad60e4ff",
   "metadata": {
    "execution": {
     "iopub.execute_input": "2024-01-14T17:59:33.644855Z",
     "iopub.status.busy": "2024-01-14T17:59:33.644280Z",
     "iopub.status.idle": "2024-01-14T17:59:33.693979Z",
     "shell.execute_reply": "2024-01-14T17:59:33.692312Z"
    },
    "papermill": {
     "duration": 0.081556,
     "end_time": "2024-01-14T17:59:33.697282",
     "exception": false,
     "start_time": "2024-01-14T17:59:33.615726",
     "status": "completed"
    },
    "tags": []
   },
   "outputs": [],
   "source": [
    "train.describe(include='object')"
   ]
  },
  {
   "cell_type": "markdown",
   "id": "59a4beea",
   "metadata": {
    "papermill": {
     "duration": 0.027792,
     "end_time": "2024-01-14T17:59:33.755032",
     "exception": false,
     "start_time": "2024-01-14T17:59:33.727240",
     "status": "completed"
    },
    "tags": []
   },
   "source": [
    "# Exploratory Data Analysis(EDA)"
   ]
  },
  {
   "cell_type": "code",
   "execution_count": null,
   "id": "d824995e",
   "metadata": {
    "execution": {
     "iopub.execute_input": "2024-01-14T17:59:33.816298Z",
     "iopub.status.busy": "2024-01-14T17:59:33.815771Z",
     "iopub.status.idle": "2024-01-14T17:59:33.829228Z",
     "shell.execute_reply": "2024-01-14T17:59:33.827950Z"
    },
    "papermill": {
     "duration": 0.046589,
     "end_time": "2024-01-14T17:59:33.831843",
     "exception": false,
     "start_time": "2024-01-14T17:59:33.785254",
     "status": "completed"
    },
    "tags": []
   },
   "outputs": [],
   "source": [
    "train['class'].value_counts()"
   ]
  },
  {
   "cell_type": "code",
   "execution_count": null,
   "id": "5722e648",
   "metadata": {
    "execution": {
     "iopub.execute_input": "2024-01-14T17:59:33.890195Z",
     "iopub.status.busy": "2024-01-14T17:59:33.889720Z",
     "iopub.status.idle": "2024-01-14T17:59:34.227006Z",
     "shell.execute_reply": "2024-01-14T17:59:34.224629Z"
    },
    "papermill": {
     "duration": 0.373852,
     "end_time": "2024-01-14T17:59:34.233679",
     "exception": false,
     "start_time": "2024-01-14T17:59:33.859827",
     "status": "completed"
    },
    "tags": []
   },
   "outputs": [],
   "source": [
    "sns.countplot(x=train['class'])"
   ]
  },
  {
   "cell_type": "code",
   "execution_count": null,
   "id": "1343bf4a",
   "metadata": {
    "execution": {
     "iopub.execute_input": "2024-01-14T17:59:34.309878Z",
     "iopub.status.busy": "2024-01-14T17:59:34.309379Z",
     "iopub.status.idle": "2024-01-14T17:59:34.494030Z",
     "shell.execute_reply": "2024-01-14T17:59:34.488535Z"
    },
    "papermill": {
     "duration": 0.231279,
     "end_time": "2024-01-14T17:59:34.503703",
     "exception": false,
     "start_time": "2024-01-14T17:59:34.272424",
     "status": "completed"
    },
    "tags": []
   },
   "outputs": [],
   "source": [
    "plt.pie(train['class'].value_counts(),labels=['normal','anomaly'],autopct=\"%0.2f\")\n",
    "plt.show()"
   ]
  },
  {
   "cell_type": "code",
   "execution_count": null,
   "id": "dc5cff06",
   "metadata": {
    "execution": {
     "iopub.execute_input": "2024-01-14T17:59:34.589899Z",
     "iopub.status.busy": "2024-01-14T17:59:34.589436Z",
     "iopub.status.idle": "2024-01-14T17:59:34.602746Z",
     "shell.execute_reply": "2024-01-14T17:59:34.601672Z"
    },
    "papermill": {
     "duration": 0.048633,
     "end_time": "2024-01-14T17:59:34.605121",
     "exception": false,
     "start_time": "2024-01-14T17:59:34.556488",
     "status": "completed"
    },
    "tags": []
   },
   "outputs": [],
   "source": [
    "train['protocol_type'].value_counts()"
   ]
  },
  {
   "cell_type": "code",
   "execution_count": null,
   "id": "594ef717",
   "metadata": {
    "execution": {
     "iopub.execute_input": "2024-01-14T17:59:34.665742Z",
     "iopub.status.busy": "2024-01-14T17:59:34.665035Z",
     "iopub.status.idle": "2024-01-14T17:59:34.962068Z",
     "shell.execute_reply": "2024-01-14T17:59:34.960858Z"
    },
    "papermill": {
     "duration": 0.33027,
     "end_time": "2024-01-14T17:59:34.964568",
     "exception": false,
     "start_time": "2024-01-14T17:59:34.634298",
     "status": "completed"
    },
    "tags": []
   },
   "outputs": [],
   "source": [
    "sns.countplot(x=train['protocol_type'])"
   ]
  },
  {
   "cell_type": "code",
   "execution_count": null,
   "id": "cb279d4f",
   "metadata": {
    "execution": {
     "iopub.execute_input": "2024-01-14T17:59:35.028822Z",
     "iopub.status.busy": "2024-01-14T17:59:35.028314Z",
     "iopub.status.idle": "2024-01-14T17:59:35.186642Z",
     "shell.execute_reply": "2024-01-14T17:59:35.185279Z"
    },
    "papermill": {
     "duration": 0.197202,
     "end_time": "2024-01-14T17:59:35.191994",
     "exception": false,
     "start_time": "2024-01-14T17:59:34.994792",
     "status": "completed"
    },
    "tags": []
   },
   "outputs": [],
   "source": [
    "plt.pie(train['protocol_type'].value_counts(),labels=['tcp','udp','icmp'],autopct=\"%0.2f\")\n",
    "plt.show()"
   ]
  },
  {
   "cell_type": "code",
   "execution_count": null,
   "id": "ed8667d5",
   "metadata": {
    "execution": {
     "iopub.execute_input": "2024-01-14T17:59:35.289581Z",
     "iopub.status.busy": "2024-01-14T17:59:35.287908Z",
     "iopub.status.idle": "2024-01-14T17:59:37.334305Z",
     "shell.execute_reply": "2024-01-14T17:59:37.333162Z"
    },
    "papermill": {
     "duration": 2.083597,
     "end_time": "2024-01-14T17:59:37.339968",
     "exception": false,
     "start_time": "2024-01-14T17:59:35.256371",
     "status": "completed"
    },
    "tags": []
   },
   "outputs": [],
   "source": [
    "plt.figure(figsize=(40,30))\n",
    "sns.heatmap(train.corr(numeric_only = True))"
   ]
  },
  {
   "cell_type": "markdown",
   "id": "cf15f14a",
   "metadata": {
    "papermill": {
     "duration": 0.03489,
     "end_time": "2024-01-14T17:59:37.411882",
     "exception": false,
     "start_time": "2024-01-14T17:59:37.376992",
     "status": "completed"
    },
    "tags": []
   },
   "source": [
    "# Data Preprocessing"
   ]
  },
  {
   "cell_type": "markdown",
   "id": "f62ec1f9",
   "metadata": {
    "papermill": {
     "duration": 0.035156,
     "end_time": "2024-01-14T17:59:37.482661",
     "exception": false,
     "start_time": "2024-01-14T17:59:37.447505",
     "status": "completed"
    },
    "tags": []
   },
   "source": [
    "- Missing Values\n",
    "- Duplicates\n",
    "- Encoding \n",
    "- Scaling\n",
    "- Features Selection\n",
    "- Dataset Splitting"
   ]
  },
  {
   "cell_type": "markdown",
   "id": "ea10192a",
   "metadata": {
    "papermill": {
     "duration": 0.0353,
     "end_time": "2024-01-14T17:59:37.551934",
     "exception": false,
     "start_time": "2024-01-14T17:59:37.516634",
     "status": "completed"
    },
    "tags": []
   },
   "source": [
    "## Missing Values"
   ]
  },
  {
   "cell_type": "code",
   "execution_count": null,
   "id": "ff940146",
   "metadata": {
    "execution": {
     "iopub.execute_input": "2024-01-14T17:59:37.627779Z",
     "iopub.status.busy": "2024-01-14T17:59:37.627371Z",
     "iopub.status.idle": "2024-01-14T17:59:37.650317Z",
     "shell.execute_reply": "2024-01-14T17:59:37.648960Z"
    },
    "papermill": {
     "duration": 0.062248,
     "end_time": "2024-01-14T17:59:37.653086",
     "exception": false,
     "start_time": "2024-01-14T17:59:37.590838",
     "status": "completed"
    },
    "tags": []
   },
   "outputs": [],
   "source": [
    "train.isnull().sum()"
   ]
  },
  {
   "cell_type": "markdown",
   "id": "837e6301",
   "metadata": {
    "papermill": {
     "duration": 0.035462,
     "end_time": "2024-01-14T17:59:37.722702",
     "exception": false,
     "start_time": "2024-01-14T17:59:37.687240",
     "status": "completed"
    },
    "tags": []
   },
   "source": [
    "## Duplicates"
   ]
  },
  {
   "cell_type": "code",
   "execution_count": null,
   "id": "19c25c27",
   "metadata": {
    "execution": {
     "iopub.execute_input": "2024-01-14T17:59:37.795563Z",
     "iopub.status.busy": "2024-01-14T17:59:37.793913Z",
     "iopub.status.idle": "2024-01-14T17:59:37.836978Z",
     "shell.execute_reply": "2024-01-14T17:59:37.835447Z"
    },
    "papermill": {
     "duration": 0.082496,
     "end_time": "2024-01-14T17:59:37.839901",
     "exception": false,
     "start_time": "2024-01-14T17:59:37.757405",
     "status": "completed"
    },
    "tags": []
   },
   "outputs": [],
   "source": [
    "print(f\"Number of duplicates: {train.duplicated().sum()}\")"
   ]
  },
  {
   "cell_type": "code",
   "execution_count": null,
   "id": "ed351fbb",
   "metadata": {
    "execution": {
     "iopub.execute_input": "2024-01-14T17:59:37.915984Z",
     "iopub.status.busy": "2024-01-14T17:59:37.915520Z",
     "iopub.status.idle": "2024-01-14T17:59:37.946655Z",
     "shell.execute_reply": "2024-01-14T17:59:37.945008Z"
    },
    "papermill": {
     "duration": 0.072454,
     "end_time": "2024-01-14T17:59:37.949257",
     "exception": false,
     "start_time": "2024-01-14T17:59:37.876803",
     "status": "completed"
    },
    "tags": []
   },
   "outputs": [],
   "source": [
    "train.head()"
   ]
  },
  {
   "cell_type": "markdown",
   "id": "d68b7fae",
   "metadata": {
    "papermill": {
     "duration": 0.037408,
     "end_time": "2024-01-14T17:59:38.021164",
     "exception": false,
     "start_time": "2024-01-14T17:59:37.983756",
     "status": "completed"
    },
    "tags": []
   },
   "source": [
    "## Label Encoding"
   ]
  },
  {
   "cell_type": "code",
   "execution_count": null,
   "id": "40c5d31d",
   "metadata": {
    "execution": {
     "iopub.execute_input": "2024-01-14T17:59:38.092503Z",
     "iopub.status.busy": "2024-01-14T17:59:38.091992Z",
     "iopub.status.idle": "2024-01-14T17:59:38.136750Z",
     "shell.execute_reply": "2024-01-14T17:59:38.135110Z"
    },
    "papermill": {
     "duration": 0.084357,
     "end_time": "2024-01-14T17:59:38.139964",
     "exception": false,
     "start_time": "2024-01-14T17:59:38.055607",
     "status": "completed"
    },
    "tags": []
   },
   "outputs": [],
   "source": [
    "label_encoder = LabelEncoder()\n",
    "def le(df):\n",
    "    for col in df.columns:\n",
    "        if df[col].dtype == 'object':\n",
    "                df[col] = label_encoder.fit_transform(df[col])\n",
    "\n",
    "le(train)"
   ]
  },
  {
   "cell_type": "code",
   "execution_count": null,
   "id": "7edc26a7",
   "metadata": {
    "execution": {
     "iopub.execute_input": "2024-01-14T17:59:38.214913Z",
     "iopub.status.busy": "2024-01-14T17:59:38.213835Z",
     "iopub.status.idle": "2024-01-14T17:59:38.264098Z",
     "shell.execute_reply": "2024-01-14T17:59:38.262613Z"
    },
    "papermill": {
     "duration": 0.091927,
     "end_time": "2024-01-14T17:59:38.267696",
     "exception": false,
     "start_time": "2024-01-14T17:59:38.175769",
     "status": "completed"
    },
    "tags": []
   },
   "outputs": [],
   "source": [
    "train"
   ]
  },
  {
   "cell_type": "markdown",
   "id": "2af90217",
   "metadata": {
    "papermill": {
     "duration": 0.035575,
     "end_time": "2024-01-14T17:59:38.338966",
     "exception": false,
     "start_time": "2024-01-14T17:59:38.303391",
     "status": "completed"
    },
    "tags": []
   },
   "source": [
    "## Features Selection "
   ]
  },
  {
   "cell_type": "code",
   "execution_count": null,
   "id": "d6639506",
   "metadata": {
    "execution": {
     "iopub.execute_input": "2024-01-14T17:59:38.413036Z",
     "iopub.status.busy": "2024-01-14T17:59:38.412258Z",
     "iopub.status.idle": "2024-01-14T17:59:38.421963Z",
     "shell.execute_reply": "2024-01-14T17:59:38.420779Z"
    },
    "papermill": {
     "duration": 0.050278,
     "end_time": "2024-01-14T17:59:38.425002",
     "exception": false,
     "start_time": "2024-01-14T17:59:38.374724",
     "status": "completed"
    },
    "tags": []
   },
   "outputs": [],
   "source": [
    "train['num_outbound_cmds']"
   ]
  },
  {
   "cell_type": "code",
   "execution_count": null,
   "id": "a6b3680d",
   "metadata": {
    "execution": {
     "iopub.execute_input": "2024-01-14T17:59:38.502991Z",
     "iopub.status.busy": "2024-01-14T17:59:38.502274Z",
     "iopub.status.idle": "2024-01-14T17:59:38.511735Z",
     "shell.execute_reply": "2024-01-14T17:59:38.510749Z"
    },
    "papermill": {
     "duration": 0.05296,
     "end_time": "2024-01-14T17:59:38.514901",
     "exception": false,
     "start_time": "2024-01-14T17:59:38.461941",
     "status": "completed"
    },
    "tags": []
   },
   "outputs": [],
   "source": [
    "#Drop the redundant feature\n",
    "train.drop(['num_outbound_cmds'], axis=1, inplace=True)"
   ]
  },
  {
   "cell_type": "code",
   "execution_count": null,
   "id": "33aa5f10",
   "metadata": {
    "execution": {
     "iopub.execute_input": "2024-01-14T17:59:38.591287Z",
     "iopub.status.busy": "2024-01-14T17:59:38.590346Z",
     "iopub.status.idle": "2024-01-14T18:00:50.756354Z",
     "shell.execute_reply": "2024-01-14T18:00:50.754987Z"
    },
    "papermill": {
     "duration": 72.207964,
     "end_time": "2024-01-14T18:00:50.759877",
     "exception": false,
     "start_time": "2024-01-14T17:59:38.551913",
     "status": "completed"
    },
    "tags": []
   },
   "outputs": [],
   "source": [
    "\n",
    "X = train.drop(['class'], axis=1)\n",
    "y = train['class']\n",
    "rfc = RandomForestClassifier()\n",
    "\n",
    "rfe = RFE(rfc, n_features_to_select=10)\n",
    "rfe = rfe.fit(X, y)\n",
    "\n",
    "feature_map = [(i, v) for i, v in itertools.zip_longest(rfe.get_support(), X.columns)]\n",
    "selected_features = [v for i, v in feature_map if i==True]\n",
    "top_features = pd.DataFrame({'Features': selected_features})\n",
    "top_features.index = top_features.index + 1\n",
    "     "
   ]
  },
  {
   "cell_type": "code",
   "execution_count": null,
   "id": "9d828821",
   "metadata": {
    "execution": {
     "iopub.execute_input": "2024-01-14T18:00:50.833733Z",
     "iopub.status.busy": "2024-01-14T18:00:50.833305Z",
     "iopub.status.idle": "2024-01-14T18:00:50.845957Z",
     "shell.execute_reply": "2024-01-14T18:00:50.844686Z"
    },
    "papermill": {
     "duration": 0.053323,
     "end_time": "2024-01-14T18:00:50.848860",
     "exception": false,
     "start_time": "2024-01-14T18:00:50.795537",
     "status": "completed"
    },
    "tags": []
   },
   "outputs": [],
   "source": [
    "top_features"
   ]
  },
  {
   "cell_type": "markdown",
   "id": "87c44213",
   "metadata": {
    "papermill": {
     "duration": 0.035562,
     "end_time": "2024-01-14T18:00:50.920200",
     "exception": false,
     "start_time": "2024-01-14T18:00:50.884638",
     "status": "completed"
    },
    "tags": []
   },
   "source": [
    "## Standard Scaler"
   ]
  },
  {
   "cell_type": "code",
   "execution_count": null,
   "id": "5731405e",
   "metadata": {
    "execution": {
     "iopub.execute_input": "2024-01-14T18:00:50.995302Z",
     "iopub.status.busy": "2024-01-14T18:00:50.994381Z",
     "iopub.status.idle": "2024-01-14T18:00:51.012233Z",
     "shell.execute_reply": "2024-01-14T18:00:51.011271Z"
    },
    "papermill": {
     "duration": 0.058255,
     "end_time": "2024-01-14T18:00:51.015233",
     "exception": false,
     "start_time": "2024-01-14T18:00:50.956978",
     "status": "completed"
    },
    "tags": []
   },
   "outputs": [],
   "source": [
    "X = X[selected_features]\n",
    "scale = StandardScaler()\n",
    "X = scale.fit_transform(X)"
   ]
  },
  {
   "cell_type": "markdown",
   "id": "cebe304d",
   "metadata": {
    "papermill": {
     "duration": 0.036689,
     "end_time": "2024-01-14T18:00:51.088428",
     "exception": false,
     "start_time": "2024-01-14T18:00:51.051739",
     "status": "completed"
    },
    "tags": []
   },
   "source": [
    "## Dataset Splitting"
   ]
  },
  {
   "cell_type": "code",
   "execution_count": null,
   "id": "33bb728d",
   "metadata": {
    "execution": {
     "iopub.execute_input": "2024-01-14T18:00:51.162942Z",
     "iopub.status.busy": "2024-01-14T18:00:51.161780Z",
     "iopub.status.idle": "2024-01-14T18:00:51.173728Z",
     "shell.execute_reply": "2024-01-14T18:00:51.172489Z"
    },
    "papermill": {
     "duration": 0.05213,
     "end_time": "2024-01-14T18:00:51.176624",
     "exception": false,
     "start_time": "2024-01-14T18:00:51.124494",
     "status": "completed"
    },
    "tags": []
   },
   "outputs": [],
   "source": [
    "X_train,X_test,y_train,y_test = train_test_split(X,y,train_size=0.80,random_state=2)"
   ]
  },
  {
   "cell_type": "markdown",
   "id": "9be30cfe",
   "metadata": {
    "papermill": {
     "duration": 0.035574,
     "end_time": "2024-01-14T18:00:51.248523",
     "exception": false,
     "start_time": "2024-01-14T18:00:51.212949",
     "status": "completed"
    },
    "tags": []
   },
   "source": [
    "# Model Selection"
   ]
  },
  {
   "cell_type": "markdown",
   "id": "b3c5d147",
   "metadata": {
    "papermill": {
     "duration": 0.035973,
     "end_time": "2024-01-14T18:00:51.321331",
     "exception": false,
     "start_time": "2024-01-14T18:00:51.285358",
     "status": "completed"
    },
    "tags": []
   },
   "source": [
    "## Support Vector Machine"
   ]
  },
  {
   "cell_type": "markdown",
   "id": "45d14134",
   "metadata": {
    "papermill": {
     "duration": 0.038696,
     "end_time": "2024-01-14T18:01:17.427192",
     "exception": false,
     "start_time": "2024-01-14T18:01:17.388496",
     "status": "completed"
    },
    "tags": []
   },
   "source": [
    "## Decision-Tree Classifier"
   ]
  },
  {
   "cell_type": "code",
   "execution_count": null,
   "id": "e7eec0a5",
   "metadata": {
    "execution": {
     "iopub.execute_input": "2024-01-14T18:01:17.510784Z",
     "iopub.status.busy": "2024-01-14T18:01:17.509854Z",
     "iopub.status.idle": "2024-01-14T18:01:17.781764Z",
     "shell.execute_reply": "2024-01-14T18:01:17.780563Z"
    },
    "papermill": {
     "duration": 0.315471,
     "end_time": "2024-01-14T18:01:17.785033",
     "exception": false,
     "start_time": "2024-01-14T18:01:17.469562",
     "status": "completed"
    },
    "tags": []
   },
   "outputs": [],
   "source": [
    "dtc = DecisionTreeClassifier(max_depth=15,criterion='entropy')\n",
    "dtc.fit(X_train,y_train)\n",
    "y_pred = dtc.predict(X_test)\n",
    "report = classification_report(y_test, y_pred)\n",
    "cm = confusion_matrix(y_test, y_pred)\n",
    "print('============================== Decision-Tree Classifier ==============================')\n",
    "print(\"Accuracy: \", accuracy_score(y_test,y_pred))\n",
    "print(\"Precision: \", precision_score(y_test,y_pred))\n",
    "print(\"Classification Report:\\n\", report)\n",
    "plt.figure(figsize=(6, 4))\n",
    "sns.heatmap(cm, annot=True, fmt='d', cbar=False)\n",
    "plt.xlabel('Predicted')\n",
    "plt.ylabel('Actual')\n",
    "plt.title(\"Confusion Matrix\")\n",
    "plt.show()"
   ]
  },
  {
   "cell_type": "markdown",
   "id": "cc77f1c4",
   "metadata": {
    "papermill": {
     "duration": 0.038807,
     "end_time": "2024-01-14T18:01:17.862129",
     "exception": false,
     "start_time": "2024-01-14T18:01:17.823322",
     "status": "completed"
    },
    "tags": []
   },
   "source": [
    "## Logistic Regression"
   ]
  },
  {
   "cell_type": "code",
   "execution_count": null,
   "id": "89501fe0",
   "metadata": {
    "execution": {
     "iopub.execute_input": "2024-01-14T18:01:17.942956Z",
     "iopub.status.busy": "2024-01-14T18:01:17.941814Z",
     "iopub.status.idle": "2024-01-14T18:01:18.302505Z",
     "shell.execute_reply": "2024-01-14T18:01:18.301288Z"
    },
    "papermill": {
     "duration": 0.404473,
     "end_time": "2024-01-14T18:01:18.305264",
     "exception": false,
     "start_time": "2024-01-14T18:01:17.900791",
     "status": "completed"
    },
    "tags": []
   },
   "outputs": [],
   "source": [
    "lrc = LogisticRegression()\n",
    "lrc.fit(X_train,y_train)\n",
    "y_pred = lrc.predict(X_test)\n",
    "report = classification_report(y_test, y_pred)\n",
    "cm = confusion_matrix(y_test, y_pred)\n",
    "print('============================== Logistic Regression ==============================')\n",
    "print(\"Accuracy: \", accuracy_score(y_test,y_pred))\n",
    "print(\"Precision: \", precision_score(y_test,y_pred))\n",
    "print(\"Classification Report:\\n\", report)\n",
    "plt.figure(figsize=(6, 4))\n",
    "sns.heatmap(cm, annot=True, fmt='d', cbar=False)\n",
    "plt.xlabel('Predicted')\n",
    "plt.ylabel('Actual')\n",
    "plt.title(\"Confusion Matrix\")\n",
    "plt.show()"
   ]
  },
  {
   "cell_type": "markdown",
   "id": "4a19095e",
   "metadata": {
    "papermill": {
     "duration": 0.041225,
     "end_time": "2024-01-14T18:01:18.387385",
     "exception": false,
     "start_time": "2024-01-14T18:01:18.346160",
     "status": "completed"
    },
    "tags": []
   },
   "source": [
    "## Random Forest Classifier"
   ]
  },
  {
   "cell_type": "code",
   "execution_count": null,
   "id": "f78959c4",
   "metadata": {
    "execution": {
     "iopub.execute_input": "2024-01-14T18:01:18.474116Z",
     "iopub.status.busy": "2024-01-14T18:01:18.472467Z",
     "iopub.status.idle": "2024-01-14T18:01:19.754253Z",
     "shell.execute_reply": "2024-01-14T18:01:19.752865Z"
    },
    "papermill": {
     "duration": 1.32922,
     "end_time": "2024-01-14T18:01:19.757390",
     "exception": false,
     "start_time": "2024-01-14T18:01:18.428170",
     "status": "completed"
    },
    "tags": []
   },
   "outputs": [],
   "source": [
    "rfc = RandomForestClassifier(n_estimators=50, random_state=2)\n",
    "rfc.fit(X_train,y_train)\n",
    "y_pred = rfc.predict(X_test)\n",
    "report = classification_report(y_test, y_pred)\n",
    "cm = confusion_matrix(y_test, y_pred)\n",
    "print('============================== Random Forest Classifier ==============================')\n",
    "print(\"Accuracy: \", accuracy_score(y_test,y_pred))\n",
    "print(\"Precision: \", precision_score(y_test,y_pred))\n",
    "print(\"Classification Report:\\n\", report)\n",
    "plt.figure(figsize=(6, 4))\n",
    "sns.heatmap(cm, annot=True, fmt='d', cbar=False)\n",
    "plt.xlabel('Predicted')\n",
    "plt.ylabel('Actual')\n",
    "plt.title(\"Confusion Matrix\")\n",
    "plt.show()"
   ]
  },
  {
   "cell_type": "markdown",
   "id": "2ad8fd92",
   "metadata": {
    "papermill": {
     "duration": 0.041049,
     "end_time": "2024-01-14T18:01:25.411798",
     "exception": false,
     "start_time": "2024-01-14T18:01:25.370749",
     "status": "completed"
    },
    "tags": []
   },
   "source": [
    "# Evaluation Metrics"
   ]
  },
  {
   "cell_type": "code",
   "execution_count": null,
   "id": "da35d123",
   "metadata": {
    "execution": {
     "iopub.execute_input": "2024-01-14T18:01:25.495701Z",
     "iopub.status.busy": "2024-01-14T18:01:25.495214Z",
     "iopub.status.idle": "2024-01-14T18:01:25.502100Z",
     "shell.execute_reply": "2024-01-14T18:01:25.500712Z"
    },
    "papermill": {
     "duration": 0.052497,
     "end_time": "2024-01-14T18:01:25.504867",
     "exception": false,
     "start_time": "2024-01-14T18:01:25.452370",
     "status": "completed"
    },
    "tags": []
   },
   "outputs": [],
   "source": [
    "clfs = {\n",
    "    'SVC' : svc,\n",
    "    'KN' : knc, \n",
    "    'NB': bnb, \n",
    "    'DT': dtc, \n",
    "    'LR': lrc, \n",
    "    'RF': rfc, \n",
    "    'AdaBoost': abc, \n",
    "    'BgC': bc, \n",
    "    'ETC': etc,\n",
    "    'xgb':xgb\n",
    "}"
   ]
  },
  {
   "cell_type": "code",
   "execution_count": null,
   "id": "5d055fda",
   "metadata": {
    "execution": {
     "iopub.execute_input": "2024-01-14T18:01:25.590149Z",
     "iopub.status.busy": "2024-01-14T18:01:25.589346Z",
     "iopub.status.idle": "2024-01-14T18:01:25.597393Z",
     "shell.execute_reply": "2024-01-14T18:01:25.596386Z"
    },
    "papermill": {
     "duration": 0.054655,
     "end_time": "2024-01-14T18:01:25.600020",
     "exception": false,
     "start_time": "2024-01-14T18:01:25.545365",
     "status": "completed"
    },
    "tags": []
   },
   "outputs": [],
   "source": [
    "from sklearn.metrics import accuracy_score, precision_score, f1_score, recall_score\n",
    "\n",
    "def metrics(clf, X_train, y_train, X_test, y_test):\n",
    "    clf.fit(X_train, y_train)\n",
    "    y_pred = clf.predict(X_test)\n",
    "    accuracy = accuracy_score(y_test, y_pred)\n",
    "    precision = precision_score(y_test, y_pred, average='weighted')\n",
    "    f1 = f1_score(y_test, y_pred, average='weighted')\n",
    "    recall = recall_score(y_test, y_pred, average='weighted')\n",
    "    \n",
    "    return accuracy, precision, f1, recall"
   ]
  },
  {
   "cell_type": "code",
   "execution_count": null,
   "id": "dbbb9e54",
   "metadata": {
    "execution": {
     "iopub.execute_input": "2024-01-14T18:01:25.684556Z",
     "iopub.status.busy": "2024-01-14T18:01:25.683757Z",
     "iopub.status.idle": "2024-01-14T18:01:55.434474Z",
     "shell.execute_reply": "2024-01-14T18:01:55.433163Z"
    },
    "papermill": {
     "duration": 29.796358,
     "end_time": "2024-01-14T18:01:55.437556",
     "exception": false,
     "start_time": "2024-01-14T18:01:25.641198",
     "status": "completed"
    },
    "tags": []
   },
   "outputs": [],
   "source": [
    "accuracy_scores = []\n",
    "precision_scores = []\n",
    "f1_scores = []\n",
    "recall_scores = []\n",
    "\n",
    "for name, clf in clfs.items():\n",
    "    current_accuracy, current_precision, current_f1, current_recall = metrics(clf, X_train, y_train, X_test, y_test)\n",
    "    accuracy_scores.append(current_accuracy)\n",
    "    precision_scores.append(current_precision)\n",
    "    f1_scores.append(current_f1)\n",
    "    recall_scores.append(current_recall)"
   ]
  },
  {
   "cell_type": "markdown",
   "id": "804f2448",
   "metadata": {
    "papermill": {
     "duration": 0.041876,
     "end_time": "2024-01-14T18:01:55.521332",
     "exception": false,
     "start_time": "2024-01-14T18:01:55.479456",
     "status": "completed"
    },
    "tags": []
   },
   "source": [
    "# Comparing Performance of Different Machine Learning Algorithms"
   ]
  },
  {
   "cell_type": "code",
   "execution_count": null,
   "id": "9f475131",
   "metadata": {
    "execution": {
     "iopub.execute_input": "2024-01-14T18:01:55.701690Z",
     "iopub.status.busy": "2024-01-14T18:01:55.701256Z",
     "iopub.status.idle": "2024-01-14T18:01:55.718673Z",
     "shell.execute_reply": "2024-01-14T18:01:55.717268Z"
    },
    "papermill": {
     "duration": 0.062667,
     "end_time": "2024-01-14T18:01:55.721163",
     "exception": false,
     "start_time": "2024-01-14T18:01:55.658496",
     "status": "completed"
    },
    "tags": []
   },
   "outputs": [],
   "source": [
    "performance_df"
   ]
  },
  {
   "cell_type": "markdown",
   "id": "7360cf6b",
   "metadata": {
    "papermill": {
     "duration": 0.04238,
     "end_time": "2024-01-14T18:01:55.804629",
     "exception": false,
     "start_time": "2024-01-14T18:01:55.762249",
     "status": "completed"
    },
    "tags": []
   },
   "source": [
    "## Accuracy Scores of Different Machine Learning Algorithms"
   ]
  },
  {
   "cell_type": "code",
   "execution_count": null,
   "id": "cf49b836",
   "metadata": {
    "execution": {
     "iopub.execute_input": "2024-01-14T18:01:55.890093Z",
     "iopub.status.busy": "2024-01-14T18:01:55.889234Z",
     "iopub.status.idle": "2024-01-14T18:01:56.330878Z",
     "shell.execute_reply": "2024-01-14T18:01:56.329809Z"
    },
    "papermill": {
     "duration": 0.487445,
     "end_time": "2024-01-14T18:01:56.333543",
     "exception": false,
     "start_time": "2024-01-14T18:01:55.846098",
     "status": "completed"
    },
    "tags": []
   },
   "outputs": [],
   "source": [
    "sns.barplot(performance_df, x='Algorithm', y='Accuracy',palette='dark')\n",
    "plt.xlabel('Algorithms')\n",
    "plt.ylabel('Accuracy')\n",
    "plt.title('Accuracy Scores for Different Algorithms')\n",
    "plt.tight_layout()\n",
    "plt.show()"
   ]
  },
  {
   "cell_type": "markdown",
   "id": "7d69f564",
   "metadata": {
    "papermill": {
     "duration": 0.042265,
     "end_time": "2024-01-14T18:01:56.419536",
     "exception": false,
     "start_time": "2024-01-14T18:01:56.377271",
     "status": "completed"
    },
    "tags": []
   },
   "source": [
    "## Precision Scores of Different Machine Learning Algorithms"
   ]
  },
  {
   "cell_type": "code",
   "execution_count": null,
   "id": "0d32b729",
   "metadata": {
    "execution": {
     "iopub.execute_input": "2024-01-14T18:01:56.507565Z",
     "iopub.status.busy": "2024-01-14T18:01:56.507084Z",
     "iopub.status.idle": "2024-01-14T18:01:56.935691Z",
     "shell.execute_reply": "2024-01-14T18:01:56.934506Z"
    },
    "papermill": {
     "duration": 0.474965,
     "end_time": "2024-01-14T18:01:56.938484",
     "exception": false,
     "start_time": "2024-01-14T18:01:56.463519",
     "status": "completed"
    },
    "tags": []
   },
   "outputs": [],
   "source": [
    "sns.barplot(performance_df, x='Algorithm', y='Precision',palette='dark')\n",
    "plt.xlabel('Algorithms')\n",
    "plt.ylabel('Precision')\n",
    "plt.title('Precision Scores for Different Algorithms')\n",
    "plt.tight_layout()\n",
    "plt.show()\n"
   ]
  },
  {
   "cell_type": "markdown",
   "id": "909e52ed",
   "metadata": {
    "papermill": {
     "duration": 0.04609,
     "end_time": "2024-01-14T18:01:57.025236",
     "exception": false,
     "start_time": "2024-01-14T18:01:56.979146",
     "status": "completed"
    },
    "tags": []
   },
   "source": [
    "## F1 Scores of Different Machine Learning Algorithms"
   ]
  },
  {
   "cell_type": "code",
   "execution_count": null,
   "id": "5f0113bc",
   "metadata": {
    "execution": {
     "iopub.execute_input": "2024-01-14T18:01:57.113016Z",
     "iopub.status.busy": "2024-01-14T18:01:57.111654Z",
     "iopub.status.idle": "2024-01-14T18:01:57.526654Z",
     "shell.execute_reply": "2024-01-14T18:01:57.525187Z"
    },
    "papermill": {
     "duration": 0.461154,
     "end_time": "2024-01-14T18:01:57.529717",
     "exception": false,
     "start_time": "2024-01-14T18:01:57.068563",
     "status": "completed"
    },
    "tags": []
   },
   "outputs": [],
   "source": [
    "sns.barplot(performance_df, x='Algorithm', y='F1-score',palette='dark')\n",
    "plt.xlabel('Algorithms')\n",
    "plt.ylabel('F1-Score')\n",
    "plt.title('F1 Scores for Different Algorithms')\n",
    "plt.tight_layout()\n",
    "plt.show()\n"
   ]
  },
  {
   "cell_type": "markdown",
   "id": "23d4ada9",
   "metadata": {
    "papermill": {
     "duration": 0.045394,
     "end_time": "2024-01-14T18:01:57.619601",
     "exception": false,
     "start_time": "2024-01-14T18:01:57.574207",
     "status": "completed"
    },
    "tags": []
   },
   "source": [
    "## Recall Scores of Different Machine Learning Algorithms"
   ]
  },
  {
   "cell_type": "code",
   "execution_count": null,
   "id": "2c6a8cea",
   "metadata": {
    "execution": {
     "iopub.execute_input": "2024-01-14T18:01:57.711787Z",
     "iopub.status.busy": "2024-01-14T18:01:57.711288Z",
     "iopub.status.idle": "2024-01-14T18:01:58.162311Z",
     "shell.execute_reply": "2024-01-14T18:01:58.160982Z"
    },
    "papermill": {
     "duration": 0.501332,
     "end_time": "2024-01-14T18:01:58.165334",
     "exception": false,
     "start_time": "2024-01-14T18:01:57.664002",
     "status": "completed"
    },
    "tags": []
   },
   "outputs": [],
   "source": [
    "sns.barplot(performance_df, x='Algorithm', y='Recall',palette='dark')\n",
    "plt.xlabel('Algorithms')\n",
    "plt.ylabel('Recall')\n",
    "plt.title('Recall Scores for Different Algorithms')\n",
    "plt.tight_layout()\n",
    "plt.show()"
   ]
  },
  {
   "cell_type": "markdown",
   "id": "10619651",
   "metadata": {
    "papermill": {
     "duration": 0.045399,
     "end_time": "2024-01-14T18:01:58.254196",
     "exception": false,
     "start_time": "2024-01-14T18:01:58.208797",
     "status": "completed"
    },
    "tags": []
   },
   "source": [
    "# Prediction For Test Dataset"
   ]
  },
  {
   "cell_type": "markdown",
   "id": "cf451ae9",
   "metadata": {
    "papermill": {
     "duration": 0.043696,
     "end_time": "2024-01-14T18:01:58.345151",
     "exception": false,
     "start_time": "2024-01-14T18:01:58.301455",
     "status": "completed"
    },
    "tags": []
   },
   "source": [
    "## Reading the Testing Dataset"
   ]
  },
  {
   "cell_type": "code",
   "execution_count": null,
   "id": "2702f567",
   "metadata": {
    "execution": {
     "iopub.execute_input": "2024-01-14T18:01:58.434435Z",
     "iopub.status.busy": "2024-01-14T18:01:58.433734Z",
     "iopub.status.idle": "2024-01-14T18:01:58.598892Z",
     "shell.execute_reply": "2024-01-14T18:01:58.597520Z"
    },
    "papermill": {
     "duration": 0.213691,
     "end_time": "2024-01-14T18:01:58.601860",
     "exception": false,
     "start_time": "2024-01-14T18:01:58.388169",
     "status": "completed"
    },
    "tags": []
   },
   "outputs": [],
   "source": [
    "test = pd.read_csv(\"Test_data.csv\")"
   ]
  },
  {
   "cell_type": "markdown",
   "id": "810d0b76",
   "metadata": {
    "papermill": {
     "duration": 0.044026,
     "end_time": "2024-01-14T18:01:58.689209",
     "exception": false,
     "start_time": "2024-01-14T18:01:58.645183",
     "status": "completed"
    },
    "tags": []
   },
   "source": [
    "## Exploratory Data Analysis(EDA)"
   ]
  },
  {
   "cell_type": "code",
   "execution_count": null,
   "id": "8ca6702f",
   "metadata": {
    "execution": {
     "iopub.execute_input": "2024-01-14T18:01:58.778627Z",
     "iopub.status.busy": "2024-01-14T18:01:58.778097Z",
     "iopub.status.idle": "2024-01-14T18:01:58.808499Z",
     "shell.execute_reply": "2024-01-14T18:01:58.806080Z"
    },
    "papermill": {
     "duration": 0.078004,
     "end_time": "2024-01-14T18:01:58.811074",
     "exception": false,
     "start_time": "2024-01-14T18:01:58.733070",
     "status": "completed"
    },
    "tags": []
   },
   "outputs": [],
   "source": [
    "test.info()"
   ]
  },
  {
   "cell_type": "code",
   "execution_count": null,
   "id": "7202ebf4",
   "metadata": {
    "execution": {
     "iopub.execute_input": "2024-01-14T18:01:58.900983Z",
     "iopub.status.busy": "2024-01-14T18:01:58.900107Z",
     "iopub.status.idle": "2024-01-14T18:01:58.907652Z",
     "shell.execute_reply": "2024-01-14T18:01:58.906485Z"
    },
    "papermill": {
     "duration": 0.056711,
     "end_time": "2024-01-14T18:01:58.910684",
     "exception": false,
     "start_time": "2024-01-14T18:01:58.853973",
     "status": "completed"
    },
    "tags": []
   },
   "outputs": [],
   "source": [
    "test.shape"
   ]
  },
  {
   "cell_type": "code",
   "execution_count": null,
   "id": "3917f5f7",
   "metadata": {
    "execution": {
     "iopub.execute_input": "2024-01-14T18:01:59.000296Z",
     "iopub.status.busy": "2024-01-14T18:01:58.998949Z",
     "iopub.status.idle": "2024-01-14T18:01:59.028537Z",
     "shell.execute_reply": "2024-01-14T18:01:59.027402Z"
    },
    "papermill": {
     "duration": 0.077698,
     "end_time": "2024-01-14T18:01:59.031606",
     "exception": false,
     "start_time": "2024-01-14T18:01:58.953908",
     "status": "completed"
    },
    "scrolled": true,
    "tags": []
   },
   "outputs": [],
   "source": [
    "test.head()"
   ]
  },
  {
   "cell_type": "code",
   "execution_count": null,
   "id": "32547df2",
   "metadata": {
    "execution": {
     "iopub.execute_input": "2024-01-14T18:01:59.125812Z",
     "iopub.status.busy": "2024-01-14T18:01:59.125280Z",
     "iopub.status.idle": "2024-01-14T18:01:59.272439Z",
     "shell.execute_reply": "2024-01-14T18:01:59.270990Z"
    },
    "papermill": {
     "duration": 0.197302,
     "end_time": "2024-01-14T18:01:59.274992",
     "exception": false,
     "start_time": "2024-01-14T18:01:59.077690",
     "status": "completed"
    },
    "tags": []
   },
   "outputs": [],
   "source": [
    "test.describe()"
   ]
  },
  {
   "cell_type": "code",
   "execution_count": null,
   "id": "dc1ae716",
   "metadata": {
    "execution": {
     "iopub.execute_input": "2024-01-14T18:01:59.368516Z",
     "iopub.status.busy": "2024-01-14T18:01:59.367959Z",
     "iopub.status.idle": "2024-01-14T18:01:59.377731Z",
     "shell.execute_reply": "2024-01-14T18:01:59.376325Z"
    },
    "papermill": {
     "duration": 0.059358,
     "end_time": "2024-01-14T18:01:59.380390",
     "exception": false,
     "start_time": "2024-01-14T18:01:59.321032",
     "status": "completed"
    },
    "tags": []
   },
   "outputs": [],
   "source": [
    "test['num_outbound_cmds']"
   ]
  },
  {
   "cell_type": "code",
   "execution_count": null,
   "id": "5cb2b570",
   "metadata": {
    "execution": {
     "iopub.execute_input": "2024-01-14T18:01:59.473370Z",
     "iopub.status.busy": "2024-01-14T18:01:59.472863Z",
     "iopub.status.idle": "2024-01-14T18:01:59.483588Z",
     "shell.execute_reply": "2024-01-14T18:01:59.481924Z"
    },
    "papermill": {
     "duration": 0.059758,
     "end_time": "2024-01-14T18:01:59.486695",
     "exception": false,
     "start_time": "2024-01-14T18:01:59.426937",
     "status": "completed"
    },
    "tags": []
   },
   "outputs": [],
   "source": [
    "#Drop the redundant feature\n",
    "test.drop(['num_outbound_cmds'], axis=1, inplace=True)"
   ]
  },
  {
   "cell_type": "markdown",
   "id": "c78c735f",
   "metadata": {
    "papermill": {
     "duration": 0.045579,
     "end_time": "2024-01-14T18:01:59.578518",
     "exception": false,
     "start_time": "2024-01-14T18:01:59.532939",
     "status": "completed"
    },
    "tags": []
   },
   "source": [
    "## Missing Values"
   ]
  },
  {
   "cell_type": "code",
   "execution_count": null,
   "id": "12860e08",
   "metadata": {
    "execution": {
     "iopub.execute_input": "2024-01-14T18:01:59.669727Z",
     "iopub.status.busy": "2024-01-14T18:01:59.669240Z",
     "iopub.status.idle": "2024-01-14T18:01:59.689615Z",
     "shell.execute_reply": "2024-01-14T18:01:59.688061Z"
    },
    "papermill": {
     "duration": 0.069085,
     "end_time": "2024-01-14T18:01:59.692385",
     "exception": false,
     "start_time": "2024-01-14T18:01:59.623300",
     "status": "completed"
    },
    "tags": []
   },
   "outputs": [],
   "source": [
    "test.isnull().sum()"
   ]
  },
  {
   "cell_type": "markdown",
   "id": "7c4d4e78",
   "metadata": {
    "papermill": {
     "duration": 0.044195,
     "end_time": "2024-01-14T18:01:59.781409",
     "exception": false,
     "start_time": "2024-01-14T18:01:59.737214",
     "status": "completed"
    },
    "tags": []
   },
   "source": [
    "## Duplicates"
   ]
  },
  {
   "cell_type": "code",
   "execution_count": null,
   "id": "b358f59f",
   "metadata": {
    "execution": {
     "iopub.execute_input": "2024-01-14T18:01:59.877450Z",
     "iopub.status.busy": "2024-01-14T18:01:59.875919Z",
     "iopub.status.idle": "2024-01-14T18:01:59.914468Z",
     "shell.execute_reply": "2024-01-14T18:01:59.912872Z"
    },
    "papermill": {
     "duration": 0.089347,
     "end_time": "2024-01-14T18:01:59.917809",
     "exception": false,
     "start_time": "2024-01-14T18:01:59.828462",
     "status": "completed"
    },
    "scrolled": true,
    "tags": []
   },
   "outputs": [],
   "source": [
    "print(f\"Number of duplicates: {test.duplicated().sum()}\")"
   ]
  },
  {
   "cell_type": "code",
   "execution_count": null,
   "id": "6494b696",
   "metadata": {
    "execution": {
     "iopub.execute_input": "2024-01-14T18:02:00.011610Z",
     "iopub.status.busy": "2024-01-14T18:02:00.011189Z",
     "iopub.status.idle": "2024-01-14T18:02:00.046896Z",
     "shell.execute_reply": "2024-01-14T18:02:00.045530Z"
    },
    "papermill": {
     "duration": 0.087239,
     "end_time": "2024-01-14T18:02:00.050221",
     "exception": false,
     "start_time": "2024-01-14T18:01:59.962982",
     "status": "completed"
    },
    "tags": []
   },
   "outputs": [],
   "source": [
    "test.drop_duplicates(inplace=True)"
   ]
  },
  {
   "cell_type": "code",
   "execution_count": null,
   "id": "b9045502",
   "metadata": {
    "execution": {
     "iopub.execute_input": "2024-01-14T18:02:00.143109Z",
     "iopub.status.busy": "2024-01-14T18:02:00.142334Z",
     "iopub.status.idle": "2024-01-14T18:02:00.289257Z",
     "shell.execute_reply": "2024-01-14T18:02:00.288142Z"
    },
    "papermill": {
     "duration": 0.196426,
     "end_time": "2024-01-14T18:02:00.292367",
     "exception": false,
     "start_time": "2024-01-14T18:02:00.095941",
     "status": "completed"
    },
    "tags": []
   },
   "outputs": [],
   "source": [
    "test.describe()"
   ]
  },
  {
   "cell_type": "code",
   "execution_count": null,
   "id": "2e185f5d",
   "metadata": {
    "execution": {
     "iopub.execute_input": "2024-01-14T18:02:00.395256Z",
     "iopub.status.busy": "2024-01-14T18:02:00.394746Z",
     "iopub.status.idle": "2024-01-14T18:02:00.430859Z",
     "shell.execute_reply": "2024-01-14T18:02:00.429715Z"
    },
    "papermill": {
     "duration": 0.090153,
     "end_time": "2024-01-14T18:02:00.433669",
     "exception": false,
     "start_time": "2024-01-14T18:02:00.343516",
     "status": "completed"
    },
    "tags": []
   },
   "outputs": [],
   "source": [
    "test.describe(include='object')"
   ]
  },
  {
   "cell_type": "markdown",
   "id": "00d37173",
   "metadata": {
    "papermill": {
     "duration": 0.054689,
     "end_time": "2024-01-14T18:02:00.537399",
     "exception": false,
     "start_time": "2024-01-14T18:02:00.482710",
     "status": "completed"
    },
    "tags": []
   },
   "source": [
    "## Label Encoding"
   ]
  },
  {
   "cell_type": "code",
   "execution_count": null,
   "id": "11223b3c",
   "metadata": {
    "execution": {
     "iopub.execute_input": "2024-01-14T18:02:00.636762Z",
     "iopub.status.busy": "2024-01-14T18:02:00.635789Z",
     "iopub.status.idle": "2024-01-14T18:02:00.679347Z",
     "shell.execute_reply": "2024-01-14T18:02:00.678062Z"
    },
    "papermill": {
     "duration": 0.094136,
     "end_time": "2024-01-14T18:02:00.681801",
     "exception": false,
     "start_time": "2024-01-14T18:02:00.587665",
     "status": "completed"
    },
    "tags": []
   },
   "outputs": [],
   "source": [
    "test"
   ]
  },
  {
   "cell_type": "code",
   "execution_count": null,
   "id": "a6beb825",
   "metadata": {
    "execution": {
     "iopub.execute_input": "2024-01-14T18:02:00.779240Z",
     "iopub.status.busy": "2024-01-14T18:02:00.778717Z",
     "iopub.status.idle": "2024-01-14T18:02:00.812897Z",
     "shell.execute_reply": "2024-01-14T18:02:00.811384Z"
    },
    "papermill": {
     "duration": 0.086018,
     "end_time": "2024-01-14T18:02:00.816312",
     "exception": false,
     "start_time": "2024-01-14T18:02:00.730294",
     "status": "completed"
    },
    "tags": []
   },
   "outputs": [],
   "source": [
    "le(test)"
   ]
  },
  {
   "cell_type": "code",
   "execution_count": null,
   "id": "efdcd4f1",
   "metadata": {
    "execution": {
     "iopub.execute_input": "2024-01-14T18:02:00.912608Z",
     "iopub.status.busy": "2024-01-14T18:02:00.912147Z",
     "iopub.status.idle": "2024-01-14T18:02:00.954789Z",
     "shell.execute_reply": "2024-01-14T18:02:00.953501Z"
    },
    "papermill": {
     "duration": 0.09398,
     "end_time": "2024-01-14T18:02:00.957633",
     "exception": false,
     "start_time": "2024-01-14T18:02:00.863653",
     "status": "completed"
    },
    "scrolled": true,
    "tags": []
   },
   "outputs": [],
   "source": [
    "test"
   ]
  },
  {
   "cell_type": "markdown",
   "id": "a1cbc0cd",
   "metadata": {
    "papermill": {
     "duration": 0.046628,
     "end_time": "2024-01-14T18:02:01.054301",
     "exception": false,
     "start_time": "2024-01-14T18:02:01.007673",
     "status": "completed"
    },
    "tags": []
   },
   "source": [
    "## Feature Selection\n"
   ]
  },
  {
   "cell_type": "code",
   "execution_count": null,
   "id": "b5670dbe",
   "metadata": {
    "execution": {
     "iopub.execute_input": "2024-01-14T18:02:01.150371Z",
     "iopub.status.busy": "2024-01-14T18:02:01.149868Z",
     "iopub.status.idle": "2024-01-14T18:02:01.165857Z",
     "shell.execute_reply": "2024-01-14T18:02:01.164463Z"
    },
    "papermill": {
     "duration": 0.067432,
     "end_time": "2024-01-14T18:02:01.168680",
     "exception": false,
     "start_time": "2024-01-14T18:02:01.101248",
     "status": "completed"
    },
    "scrolled": true,
    "tags": []
   },
   "outputs": [],
   "source": [
    "X = test[selected_features]\n",
    "scale = StandardScaler()\n",
    "X_scaled = scale.fit_transform(X)"
   ]
  },
  {
   "cell_type": "markdown",
   "id": "fae3ea7d",
   "metadata": {
    "papermill": {
     "duration": 0.05045,
     "end_time": "2024-01-14T18:02:01.270189",
     "exception": false,
     "start_time": "2024-01-14T18:02:01.219739",
     "status": "completed"
    },
    "tags": []
   },
   "source": [
    "## Prediction of Test Data"
   ]
  },
  {
   "cell_type": "code",
   "execution_count": null,
   "id": "b8553692",
   "metadata": {
    "execution": {
     "iopub.execute_input": "2024-01-14T18:02:01.372533Z",
     "iopub.status.busy": "2024-01-14T18:02:01.371685Z",
     "iopub.status.idle": "2024-01-14T18:02:01.382116Z",
     "shell.execute_reply": "2024-01-14T18:02:01.380935Z"
    },
    "papermill": {
     "duration": 0.063349,
     "end_time": "2024-01-14T18:02:01.384536",
     "exception": false,
     "start_time": "2024-01-14T18:02:01.321187",
     "status": "completed"
    },
    "tags": []
   },
   "outputs": [],
   "source": [
    "# Decision Tree is better model due to less false positives\n",
    "dtc.predict(X_scaled)"
   ]
  }
 ],
 "metadata": {
  "kaggle": {
   "accelerator": "none",
   "dataSources": [
    {
     "datasetId": 62266,
     "sourceId": 120152,
     "sourceType": "datasetVersion"
    }
   ],
   "isGpuEnabled": false,
   "isInternetEnabled": false,
   "language": "python",
   "sourceType": "notebook"
  },
  "kernelspec": {
   "display_name": "Python 3",
   "language": "python",
   "name": "python3"
  },
  "language_info": {
   "codemirror_mode": {
    "name": "ipython",
    "version": 3
   },
   "file_extension": ".py",
   "mimetype": "text/x-python",
   "name": "python",
   "nbconvert_exporter": "python",
   "pygments_lexer": "ipython3",
   "version": "3.11.5"
  },
  "papermill": {
   "default_parameters": {},
   "duration": 156.667332,
   "end_time": "2024-01-14T18:02:02.358394",
   "environment_variables": {},
   "exception": null,
   "input_path": "__notebook__.ipynb",
   "output_path": "__notebook__.ipynb",
   "parameters": {},
   "start_time": "2024-01-14T17:59:25.691062",
   "version": "2.4.0"
  }
 },
 "nbformat": 4,
 "nbformat_minor": 5
}
